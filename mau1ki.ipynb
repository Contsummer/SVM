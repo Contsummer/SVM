{
  "nbformat": 4,
  "nbformat_minor": 0,
  "metadata": {
    "colab": {
      "provenance": [],
      "authorship_tag": "ABX9TyMTRBssPAqAm2s0WxlCsDOq",
      "include_colab_link": true
    },
    "kernelspec": {
      "name": "python3",
      "display_name": "Python 3"
    },
    "language_info": {
      "name": "python"
    }
  },
  "cells": [
    {
      "cell_type": "markdown",
      "metadata": {
        "id": "view-in-github",
        "colab_type": "text"
      },
      "source": [
        "<a href=\"https://colab.research.google.com/github/Contsummer/SVM/blob/main/mau1ki.ipynb\" target=\"_parent\"><img src=\"https://colab.research.google.com/assets/colab-badge.svg\" alt=\"Open In Colab\"/></a>"
      ]
    },
    {
      "cell_type": "code",
      "execution_count": null,
      "metadata": {
        "colab": {
          "base_uri": "https://localhost:8080/"
        },
        "id": "XQHHGO0CwpqV",
        "outputId": "d25b39af-1205-4244-f990-774d7801d02d"
      },
      "outputs": [
        {
          "output_type": "stream",
          "name": "stdout",
          "text": [
            "Requirement already satisfied: faker in /usr/local/lib/python3.11/dist-packages (37.1.0)\n",
            "Requirement already satisfied: tzdata in /usr/local/lib/python3.11/dist-packages (from faker) (2025.1)\n",
            "Đã tạo và lưu 100 bản ghi vào 'student_data.xlsx'.\n"
          ]
        }
      ],
      "source": []
    },
    {
      "cell_type": "code",
      "source": [
        "import pandas as pd\n",
        "from sklearn.preprocessing import MinMaxScaler, LabelEncoder\n",
        "\n",
        "df = pd.read_excel(\"student_data.xlsx\", engine='openpyxl')\n",
        "\n",
        "numeric_columns = ['Số tín chỉ tích lũy', 'Số tín chỉ rớt', 'Số lần học lại',\n",
        "                   'mon1', 'mon2', 'mon3', 'mon4', 'mon5']\n",
        "categorical_columns = ['Sức khỏe', 'Khoảng cách', 'Cư trú', 'Nghỉ học']\n",
        "\n",
        "scaler = MinMaxScaler()\n",
        "df[numeric_columns] = scaler.fit_transform(df[numeric_columns])\n",
        "\n",
        "label_encoders = {}\n",
        "for col in categorical_columns:\n",
        "    le = LabelEncoder()\n",
        "    df[col] = le.fit_transform(df[col])\n",
        "    label_encoders[col] = le\n",
        "\n",
        "df.to_excel(\"student_data_normalized.xlsx\", index=False, engine='openpyxl')\n",
        "print(\"Đã chuẩn hóa dữ liệu và lưu vào 'student_data_normalized.xlsx'.\")"
      ],
      "metadata": {
        "colab": {
          "base_uri": "https://localhost:8080/"
        },
        "id": "WYj4NqbkxH56",
        "outputId": "9c8dd182-64cd-4502-ed44-4a3d9eeb8870"
      },
      "execution_count": null,
      "outputs": [
        {
          "output_type": "stream",
          "name": "stdout",
          "text": [
            "Đã chuẩn hóa dữ liệu và lưu vào 'student_data_normalized.xlsx'.\n"
          ]
        }
      ]
    },
    {
      "cell_type": "code",
      "source": [
        "import pandas as pd\n",
        "from sklearn.model_selection import train_test_split\n",
        "from sklearn.svm import SVC\n",
        "from sklearn.metrics import accuracy_score, classification_report\n",
        "from imblearn.over_sampling import SMOTE\n",
        "import joblib\n",
        "\n",
        "df = pd.read_excel(\"student_data_normalized.xlsx\", engine='openpyxl')\n",
        "\n",
        "X = df.drop(['Tên', 'MSSV', 'Nghỉ học'], axis=1)\n",
        "y = df['Nghỉ học']\n",
        "\n",
        "X_train, X_test, y_train, y_test = train_test_split(X, y, test_size=0.3, random_state=42)\n",
        "\n",
        "smote = SMOTE(random_state=42)\n",
        "X_train_resampled, y_train_resampled = smote.fit_resample(X_train, y_train)\n",
        "\n",
        "model = SVC(kernel='rbf', class_weight='balanced', C=0.1, gamma='scale', probability=True, random_state=42)\n",
        "model.fit(X_train_resampled, y_train_resampled)\n",
        "\n",
        "y_pred = model.predict(X_test)\n",
        "\n",
        "accuracy = accuracy_score(y_test, y_pred)\n",
        "print(f\"Độ chính xác của mô hình SVM (RBF kernel): {accuracy * 100:.2f}%\")\n",
        "print(\"\\nBáo cáo phân loại chi tiết:\")\n",
        "print(classification_report(y_test, y_pred, target_names=['Không', 'Có']))  # 0: Không nghỉ học, 1: Có nghỉ học\n",
        "\n"
      ],
      "metadata": {
        "colab": {
          "base_uri": "https://localhost:8080/"
        },
        "id": "cg5p7AEHy343",
        "outputId": "e6ba3e1a-5ec7-4688-b9ed-18f68985ace3"
      },
      "execution_count": null,
      "outputs": [
        {
          "output_type": "stream",
          "name": "stdout",
          "text": [
            "Độ chính xác của mô hình SVM (RBF kernel): 75.33%\n",
            "\n",
            "Báo cáo phân loại chi tiết:\n",
            "              precision    recall  f1-score   support\n",
            "\n",
            "       Không       0.90      0.73      0.81      2096\n",
            "          Có       0.56      0.80      0.66       904\n",
            "\n",
            "    accuracy                           0.75      3000\n",
            "   macro avg       0.73      0.77      0.73      3000\n",
            "weighted avg       0.80      0.75      0.76      3000\n",
            "\n"
          ]
        }
      ]
    },
    {
      "cell_type": "code",
      "source": [
        "import pandas as pd\n",
        "from sklearn.model_selection import train_test_split\n",
        "from sklearn.svm import SVC\n",
        "from sklearn.metrics import accuracy_score, classification_report\n",
        "from imblearn.over_sampling import SMOTE\n",
        "import joblib\n",
        "import numpy as np\n",
        "\n",
        "# Đọc dữ liệu từ file Excel đã chuẩn hóa\n",
        "df = pd.read_excel(\"student_data_normalized.xlsx\", engine='openpyxl')\n",
        "\n",
        "X = df.drop(['Tên', 'MSSV', 'Nghỉ học'], axis=1)\n",
        "y = df['Nghỉ học']  # Đã mã hóa thành 0 và 1\n",
        "\n",
        "X_train, X_test, y_train, y_test = train_test_split(X, y, test_size=0.3, random_state=42)\n",
        "\n",
        "# Áp dụng SMOTE để xử lý mất cân bằng dữ liệu\n",
        "smote = SMOTE(sampling_strategy=0.8, random_state=42)  # Tăng số mẫu lớp thiểu số\n",
        "X_train_resampled, y_train_resampled = smote.fit_resample(X_train, y_train)\n",
        "\n",
        "model = SVC(kernel='rbf',\n",
        "            C=0.5,\n",
        "            gamma=\"scale\",\n",
        "            probability=True,\n",
        "            random_state=42)\n",
        "model.fit(X_train_resampled, y_train_resampled)\n",
        "\n",
        "y_pred_proba = model.predict_proba(X_test)[:, 1]  # Xác suất lớp 1 (\"Nghỉ học\")\n",
        "\n",
        "threshold = 0.5\n",
        "y_pred = (y_pred_proba >= threshold).astype(int)\n",
        "\n",
        "accuracy = accuracy_score(y_test, y_pred)\n",
        "print(f\"Độ chính xác của mô hình SVM (RBF kernel) với ngưỡng {threshold}: {accuracy * 100:.2f}%\")\n",
        "print(\"\\nBáo cáo phân loại chi tiết:\")\n",
        "print(classification_report(y_test, y_pred, target_names=['Không', 'Có']))\n",
        "\n"
      ],
      "metadata": {
        "id": "r4OsdOYdztF7",
        "outputId": "68e3e973-80cd-4a22-8ceb-1aee637fdc02",
        "colab": {
          "base_uri": "https://localhost:8080/"
        }
      },
      "execution_count": null,
      "outputs": [
        {
          "output_type": "stream",
          "name": "stdout",
          "text": [
            "Độ chính xác của mô hình SVM (RBF kernel) với ngưỡng 0.5: 70.53%\n",
            "\n",
            "Báo cáo phân loại chi tiết:\n",
            "              precision    recall  f1-score   support\n",
            "\n",
            "       Không       0.93      0.62      0.75      2096\n",
            "          Có       0.51      0.90      0.65       904\n",
            "\n",
            "    accuracy                           0.71      3000\n",
            "   macro avg       0.72      0.76      0.70      3000\n",
            "weighted avg       0.80      0.71      0.72      3000\n",
            "\n"
          ]
        }
      ]
    },
    {
      "cell_type": "code",
      "source": [
        "import pandas as pd\n",
        "from sklearn.model_selection import train_test_split\n",
        "from sklearn.svm import SVC\n",
        "from sklearn.metrics import accuracy_score, classification_report\n",
        "from imblearn.over_sampling import SMOTE\n",
        "import joblib\n",
        "import numpy as np\n",
        "\n",
        "# Đọc dữ liệu từ file Excel đã chuẩn hóa\n",
        "df = pd.read_excel(\"/content/output_labeled_fixed.xlsx\", engine='openpyxl')\n",
        "\n",
        "X = df.drop(['Bo_Hoc'], axis=1)\n",
        "y = df['Bo_Hoc']\n",
        "\n",
        "X_train, X_test, y_train, y_test = train_test_split(X, y, test_size=0.3, random_state=42)\n",
        "\n",
        "smote = SMOTE(sampling_strategy=0.8, random_state=42)  # Tăng số mẫu lớp thiểu số\n",
        "X_train_resampled, y_train_resampled = smote.fit_resample(X_train, y_train)\n",
        "\n",
        "model = SVC(kernel='rbf',\n",
        "            C=0.5,\n",
        "            gamma=\"scale\",\n",
        "            probability=True,\n",
        "            random_state=42)\n",
        "model.fit(X_train_resampled, y_train_resampled)\n",
        "\n",
        "y_pred_proba = model.predict_proba(X_test)[:, 1]  # Xác suất lớp 1 (\"Nghỉ học\")\n",
        "\n",
        "threshold = 0.5\n",
        "y_pred = (y_pred_proba >= threshold).astype(int)\n",
        "\n",
        "accuracy = accuracy_score(y_test, y_pred)\n",
        "print(f\"Độ chính xác của mô hình SVM (RBF kernel) với ngưỡng {threshold}: {accuracy * 100:.2f}%\")\n",
        "print(\"\\nBáo cáo phân loại chi tiết:\")\n",
        "print(classification_report(y_test, y_pred, target_names=['Không', 'Có']))\n",
        "\n"
      ],
      "metadata": {
        "id": "6JqaY4SY-aQH",
        "outputId": "7a673e0c-12c5-4574-b9eb-04c8b2ee70c9",
        "colab": {
          "base_uri": "https://localhost:8080/"
        }
      },
      "execution_count": 1,
      "outputs": [
        {
          "output_type": "stream",
          "name": "stdout",
          "text": [
            "Độ chính xác của mô hình SVM (RBF kernel) với ngưỡng 0.5: 85.59%\n",
            "\n",
            "Báo cáo phân loại chi tiết:\n",
            "              precision    recall  f1-score   support\n",
            "\n",
            "       Không       0.90      0.88      0.89       824\n",
            "          Có       0.76      0.81      0.78       397\n",
            "\n",
            "    accuracy                           0.86      1221\n",
            "   macro avg       0.83      0.84      0.84      1221\n",
            "weighted avg       0.86      0.86      0.86      1221\n",
            "\n"
          ]
        }
      ]
    },
    {
      "cell_type": "code",
      "source": [
        "import pandas as pd\n",
        "from sklearn.model_selection import train_test_split\n",
        "from sklearn.svm import SVC\n",
        "from sklearn.metrics import accuracy_score, classification_report\n",
        "from imblearn.over_sampling import SMOTE\n",
        "import joblib\n",
        "import numpy as np\n",
        "\n",
        "# Đọc dữ liệu từ file Excel đã chuẩn hóa\n",
        "df = pd.read_excel(\"/content/output_labeled_fixed.xlsx\", engine='openpyxl')\n",
        "\n",
        "X = df.drop(['Bo_Hoc'], axis=1)\n",
        "y = df['Bo_Hoc']\n",
        "\n",
        "X_train, X_test, y_train, y_test = train_test_split(X, y, test_size=0.3, random_state=42)\n",
        "\n",
        "smote = SMOTE(sampling_strategy=0.8, random_state=42)  # Tăng số mẫu lớp thiểu số\n",
        "X_train_resampled, y_train_resampled = smote.fit_resample(X_train, y_train)\n",
        "\n",
        "model = SVC(kernel='rbf',\n",
        "            C=0.5,\n",
        "            gamma=\"scale\",\n",
        "            probability=True,\n",
        "            random_state=42)\n",
        "model.fit(X_train_resampled, y_train_resampled)\n",
        "\n",
        "y_pred_proba = model.predict_proba(X_test)[:, 1]  # Xác suất lớp 1 (\"Nghỉ học\")\n",
        "\n",
        "# Dự đoán với ngưỡng mặc định 0.5\n",
        "threshold = 0.5\n",
        "y_pred = (y_pred_proba >= threshold).astype(int)\n",
        "\n",
        "accuracy = accuracy_score(y_test, y_pred)\n",
        "print(f\"Độ chính xác của mô hình SVM (RBF kernel) với ngưỡng {threshold}: {accuracy * 100:.2f}%\")\n",
        "print(\"\\nBáo cáo phân loại chi tiết:\")\n",
        "print(classification_report(y_test, y_pred, target_names=['Không', 'Có']))\n",
        "\n",
        "# Thử nghiệm với các ngưỡng khác\n",
        "thresholds = [0.3, 0.4, 0.5, 0.6, 0.7]\n",
        "for threshold in thresholds:\n",
        "    y_pred = (y_pred_proba >= threshold).astype(int)\n",
        "    print(f\"Độ chính xác của mô hình SVM (RBF kernel) với ngưỡng {threshold}: {accuracy * 100:.2f}%\")\n",
        "    print(f\"\\nNgưỡng: {threshold}\")\n",
        "    print(classification_report(y_test, y_pred, target_names=['Không', 'Có']))\n",
        "    print(\"__________________________________________________________________________________\")\n",
        "\n",
        "# Lưu mô hình (tùy chọn)\n",
        "joblib.dump(model, 'svm_model.pkl')"
      ],
      "metadata": {
        "id": "K6JiFKIxAgDQ",
        "outputId": "e6ea6cd0-74cf-4dbb-c61f-310d2ee66d31",
        "colab": {
          "base_uri": "https://localhost:8080/"
        }
      },
      "execution_count": 3,
      "outputs": [
        {
          "output_type": "stream",
          "name": "stdout",
          "text": [
            "Độ chính xác của mô hình SVM (RBF kernel) với ngưỡng 0.5: 85.59%\n",
            "\n",
            "Báo cáo phân loại chi tiết:\n",
            "              precision    recall  f1-score   support\n",
            "\n",
            "       Không       0.90      0.88      0.89       824\n",
            "          Có       0.76      0.81      0.78       397\n",
            "\n",
            "    accuracy                           0.86      1221\n",
            "   macro avg       0.83      0.84      0.84      1221\n",
            "weighted avg       0.86      0.86      0.86      1221\n",
            "\n",
            "\n",
            "Ngưỡng: 0.3\n",
            "              precision    recall  f1-score   support\n",
            "\n",
            "       Không       0.91      0.76      0.83       824\n",
            "          Có       0.63      0.84      0.72       397\n",
            "\n",
            "    accuracy                           0.79      1221\n",
            "   macro avg       0.77      0.80      0.77      1221\n",
            "weighted avg       0.82      0.79      0.79      1221\n",
            "\n",
            "__________________________________________________________________________________\n",
            "\n",
            "Ngưỡng: 0.4\n",
            "              precision    recall  f1-score   support\n",
            "\n",
            "       Không       0.90      0.87      0.89       824\n",
            "          Có       0.75      0.81      0.78       397\n",
            "\n",
            "    accuracy                           0.85      1221\n",
            "   macro avg       0.83      0.84      0.83      1221\n",
            "weighted avg       0.85      0.85      0.85      1221\n",
            "\n",
            "__________________________________________________________________________________\n",
            "\n",
            "Ngưỡng: 0.5\n",
            "              precision    recall  f1-score   support\n",
            "\n",
            "       Không       0.90      0.88      0.89       824\n",
            "          Có       0.76      0.81      0.78       397\n",
            "\n",
            "    accuracy                           0.86      1221\n",
            "   macro avg       0.83      0.84      0.84      1221\n",
            "weighted avg       0.86      0.86      0.86      1221\n",
            "\n",
            "__________________________________________________________________________________\n",
            "\n",
            "Ngưỡng: 0.6\n",
            "              precision    recall  f1-score   support\n",
            "\n",
            "       Không       0.90      0.88      0.89       824\n",
            "          Có       0.76      0.79      0.78       397\n",
            "\n",
            "    accuracy                           0.85      1221\n",
            "   macro avg       0.83      0.84      0.83      1221\n",
            "weighted avg       0.85      0.85      0.85      1221\n",
            "\n",
            "__________________________________________________________________________________\n",
            "\n",
            "Ngưỡng: 0.7\n",
            "              precision    recall  f1-score   support\n",
            "\n",
            "       Không       0.86      0.90      0.88       824\n",
            "          Có       0.78      0.71      0.74       397\n",
            "\n",
            "    accuracy                           0.84      1221\n",
            "   macro avg       0.82      0.80      0.81      1221\n",
            "weighted avg       0.84      0.84      0.84      1221\n",
            "\n",
            "__________________________________________________________________________________\n"
          ]
        },
        {
          "output_type": "execute_result",
          "data": {
            "text/plain": [
              "['svm_model.pkl']"
            ]
          },
          "metadata": {},
          "execution_count": 3
        }
      ]
    }
  ]
}