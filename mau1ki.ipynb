{
  "nbformat": 4,
  "nbformat_minor": 0,
  "metadata": {
    "colab": {
      "provenance": [],
      "authorship_tag": "ABX9TyPe++K6c22QpP6jX764Xd6/",
      "include_colab_link": true
    },
    "kernelspec": {
      "name": "python3",
      "display_name": "Python 3"
    },
    "language_info": {
      "name": "python"
    }
  },
  "cells": [
    {
      "cell_type": "markdown",
      "metadata": {
        "id": "view-in-github",
        "colab_type": "text"
      },
      "source": [
        "<a href=\"https://colab.research.google.com/github/Contsummer/SVM/blob/main/mau1ki.ipynb\" target=\"_parent\"><img src=\"https://colab.research.google.com/assets/colab-badge.svg\" alt=\"Open In Colab\"/></a>"
      ]
    },
    {
      "cell_type": "code",
      "execution_count": 10,
      "metadata": {
        "colab": {
          "base_uri": "https://localhost:8080/"
        },
        "id": "XQHHGO0CwpqV",
        "outputId": "d25b39af-1205-4244-f990-774d7801d02d"
      },
      "outputs": [
        {
          "output_type": "stream",
          "name": "stdout",
          "text": [
            "Requirement already satisfied: faker in /usr/local/lib/python3.11/dist-packages (37.1.0)\n",
            "Requirement already satisfied: tzdata in /usr/local/lib/python3.11/dist-packages (from faker) (2025.1)\n",
            "Đã tạo và lưu 100 bản ghi vào 'student_data.xlsx'.\n"
          ]
        }
      ],
      "source": [
        "!pip install faker\n",
        "import pandas as pd\n",
        "import numpy as np\n",
        "from faker import Faker\n",
        "import random\n",
        "\n",
        "fake = Faker('vi_VN')\n",
        "\n",
        "def generate_student_data(n_students=1000):\n",
        "    data = []\n",
        "    for _ in range(n_students):\n",
        "        name = fake.name()\n",
        "        mssv = f\"2020{random.randint(10000, 99999)}\"\n",
        "        performance = random.random()\n",
        "        health = random.randint(1, 3)\n",
        "        location = random.random()\n",
        "\n",
        "        scores = {}\n",
        "        credits_per_subject = []\n",
        "        for sub in range(1, 6):\n",
        "            subject_credits = random.randint(2, 4)\n",
        "            initial_score = np.clip(np.random.normal(performance * 10, 2), 0, 10)\n",
        "            final_score = initial_score if initial_score >= 5 else np.clip(np.random.normal(initial_score + 1, 1), 0, 10)\n",
        "            scaled_score = round(final_score * 0.4, 2)  # Thang 4, làm tròn 2 chữ số\n",
        "            scores[f\"mon{sub}\"] = scaled_score\n",
        "            credits_per_subject.append(subject_credits)\n",
        "\n",
        "        # Tính tổng số môn và tín chỉ\n",
        "        total_subjects = len(scores)\n",
        "        passed_subjects = sum(1 for score in [v / 0.4 for v in scores.values()] if score >= 5)\n",
        "        failed_subjects = total_subjects - passed_subjects\n",
        "\n",
        "        # Tính số tín chỉ tích lũy và rớt\n",
        "        credits_accumulated = sum(credits_per_subject[i] for i in range(total_subjects) if [v / 0.4 for v in scores.values()][i] >= 5)\n",
        "        credits_failed = min(sum(credits_per_subject[i] for i in range(total_subjects) if [v / 0.4 for v in scores.values()][i] < 5), 20)  # Giới hạn tối đa 20\n",
        "\n",
        "        while credits_accumulated <= credits_failed:\n",
        "            credits_accumulated += random.randint(5, 10)\n",
        "\n",
        "        retake_count = failed_subjects\n",
        "\n",
        "        if location <= 0.25:\n",
        "            distance = \"gần\"\n",
        "        elif location <= 0.5:\n",
        "            distance = \"trung bình\"\n",
        "        elif location <= 0.75:\n",
        "            distance = \"xa\"\n",
        "        else:\n",
        "            distance = \"rất xa\"\n",
        "\n",
        "        residence_probs = {\"ktx\": 0.5 if distance in [\"xa\", \"rất xa\"] else 0.2,\n",
        "                           \"ở nhà\": 0.7 if distance == \"gần\" else 0.3,\n",
        "                           \"ở trọ\": 0.4}\n",
        "        residence = random.choices([\"ktx\", \"ở nhà\", \"ở trọ\"],\n",
        "                                   weights=[residence_probs[r] for r in [\"ktx\", \"ở nhà\", \"ở trọ\"]], k=1)[0]\n",
        "\n",
        "        if residence == \"ktx\":\n",
        "            distance = \"gần\"\n",
        "\n",
        "        dropout_prob = 1 / (1 + np.exp(5 * performance + 0.5 * health -\n",
        "                                       0.02 * credits_failed - 0.1 * retake_count + 0.01 * credits_accumulated - 2))\n",
        "        dropout = 1 if random.random() < dropout_prob else 0\n",
        "\n",
        "        record = {\"Tên\": name, \"MSSV\": mssv, \"Sức khỏe\": health, \"Khoảng cách\": distance,\n",
        "                  \"Cư trú\": residence, \"Số tín chỉ tích lũy\": credits_accumulated,\n",
        "                  \"Số tín chỉ rớt\": credits_failed, \"Số lần học lại\": retake_count}\n",
        "        record.update(scores)\n",
        "        record[\"Nghỉ học\"] = dropout\n",
        "        data.append(record)\n",
        "\n",
        "    return pd.DataFrame(data)\n",
        "\n",
        "if __name__ == \"__main__\":\n",
        "    df = generate_student_data(10000)\n",
        "    df.to_excel(\"student_data.xlsx\", index=False, engine='openpyxl')\n",
        "    print(\"Đã tạo và lưu 100 bản ghi vào 'student_data.xlsx'.\")"
      ]
    },
    {
      "cell_type": "code",
      "source": [
        "import pandas as pd\n",
        "from sklearn.preprocessing import MinMaxScaler, LabelEncoder\n",
        "\n",
        "df = pd.read_excel(\"student_data.xlsx\", engine='openpyxl')\n",
        "\n",
        "numeric_columns = ['Số tín chỉ tích lũy', 'Số tín chỉ rớt', 'Số lần học lại',\n",
        "                   'mon1', 'mon2', 'mon3', 'mon4', 'mon5']\n",
        "categorical_columns = ['Sức khỏe', 'Khoảng cách', 'Cư trú', 'Nghỉ học']\n",
        "\n",
        "scaler = MinMaxScaler()\n",
        "df[numeric_columns] = scaler.fit_transform(df[numeric_columns])\n",
        "\n",
        "label_encoders = {}\n",
        "for col in categorical_columns:\n",
        "    le = LabelEncoder()\n",
        "    df[col] = le.fit_transform(df[col])\n",
        "    label_encoders[col] = le\n",
        "\n",
        "df.to_excel(\"student_data_normalized.xlsx\", index=False, engine='openpyxl')\n",
        "print(\"Đã chuẩn hóa dữ liệu và lưu vào 'student_data_normalized.xlsx'.\")"
      ],
      "metadata": {
        "colab": {
          "base_uri": "https://localhost:8080/"
        },
        "id": "WYj4NqbkxH56",
        "outputId": "9c8dd182-64cd-4502-ed44-4a3d9eeb8870"
      },
      "execution_count": 11,
      "outputs": [
        {
          "output_type": "stream",
          "name": "stdout",
          "text": [
            "Đã chuẩn hóa dữ liệu và lưu vào 'student_data_normalized.xlsx'.\n"
          ]
        }
      ]
    },
    {
      "cell_type": "code",
      "source": [
        "import pandas as pd\n",
        "from sklearn.model_selection import train_test_split\n",
        "from sklearn.svm import SVC\n",
        "from sklearn.metrics import accuracy_score, classification_report\n",
        "from imblearn.over_sampling import SMOTE\n",
        "import joblib\n",
        "\n",
        "df = pd.read_excel(\"student_data_normalized.xlsx\", engine='openpyxl')\n",
        "\n",
        "X = df.drop(['Tên', 'MSSV', 'Nghỉ học'], axis=1)\n",
        "y = df['Nghỉ học']\n",
        "\n",
        "X_train, X_test, y_train, y_test = train_test_split(X, y, test_size=0.3, random_state=42)\n",
        "\n",
        "smote = SMOTE(random_state=42)\n",
        "X_train_resampled, y_train_resampled = smote.fit_resample(X_train, y_train)\n",
        "\n",
        "model = SVC(kernel='rbf', class_weight='balanced', C=0.1, gamma='scale', probability=True, random_state=42)\n",
        "model.fit(X_train_resampled, y_train_resampled)\n",
        "\n",
        "y_pred = model.predict(X_test)\n",
        "\n",
        "accuracy = accuracy_score(y_test, y_pred)\n",
        "print(f\"Độ chính xác của mô hình SVM (RBF kernel): {accuracy * 100:.2f}%\")\n",
        "print(\"\\nBáo cáo phân loại chi tiết:\")\n",
        "print(classification_report(y_test, y_pred, target_names=['Không', 'Có']))  # 0: Không nghỉ học, 1: Có nghỉ học\n",
        "\n"
      ],
      "metadata": {
        "colab": {
          "base_uri": "https://localhost:8080/"
        },
        "id": "cg5p7AEHy343",
        "outputId": "e6ba3e1a-5ec7-4688-b9ed-18f68985ace3"
      },
      "execution_count": 12,
      "outputs": [
        {
          "output_type": "stream",
          "name": "stdout",
          "text": [
            "Độ chính xác của mô hình SVM (RBF kernel): 75.33%\n",
            "\n",
            "Báo cáo phân loại chi tiết:\n",
            "              precision    recall  f1-score   support\n",
            "\n",
            "       Không       0.90      0.73      0.81      2096\n",
            "          Có       0.56      0.80      0.66       904\n",
            "\n",
            "    accuracy                           0.75      3000\n",
            "   macro avg       0.73      0.77      0.73      3000\n",
            "weighted avg       0.80      0.75      0.76      3000\n",
            "\n"
          ]
        }
      ]
    },
    {
      "cell_type": "code",
      "source": [
        "import pandas as pd\n",
        "from sklearn.model_selection import train_test_split\n",
        "from sklearn.svm import SVC\n",
        "from sklearn.metrics import accuracy_score, classification_report\n",
        "from imblearn.over_sampling import SMOTE\n",
        "import joblib\n",
        "import numpy as np\n",
        "\n",
        "# Đọc dữ liệu từ file Excel đã chuẩn hóa\n",
        "df = pd.read_excel(\"student_data_normalized.xlsx\", engine='openpyxl')\n",
        "\n",
        "X = df.drop(['Tên', 'MSSV', 'Nghỉ học'], axis=1)\n",
        "y = df['Nghỉ học']  # Đã mã hóa thành 0 và 1\n",
        "\n",
        "X_train, X_test, y_train, y_test = train_test_split(X, y, test_size=0.3, random_state=42)\n",
        "\n",
        "# Áp dụng SMOTE để xử lý mất cân bằng dữ liệu\n",
        "smote = SMOTE(sampling_strategy=0.8, random_state=42)  # Tăng số mẫu lớp thiểu số\n",
        "X_train_resampled, y_train_resampled = smote.fit_resample(X_train, y_train)\n",
        "\n",
        "model = SVC(kernel='rbf',\n",
        "            C=0.5,  # Tăng C để nhạy hơn\n",
        "            gamma=\"scale\",  # Giảm gamma để ranh giới mượt hơn\n",
        "            class_weight={0: 1, 1: 5},  # Tăng trọng số cho lớp thiểu số\n",
        "            probability=True,\n",
        "            random_state=42)\n",
        "model.fit(X_train_resampled, y_train_resampled)\n",
        "\n",
        "y_pred_proba = model.predict_proba(X_test)[:, 1]  # Xác suất lớp 1 (\"Nghỉ học\")\n",
        "\n",
        "threshold = 0.5\n",
        "y_pred = (y_pred_proba >= threshold).astype(int)\n",
        "\n",
        "# Đánh giá mô hình\n",
        "accuracy = accuracy_score(y_test, y_pred)\n",
        "print(f\"Độ chính xác của mô hình SVM (RBF kernel) với ngưỡng {threshold}: {accuracy * 100:.2f}%\")\n",
        "print(\"\\nBáo cáo phân loại chi tiết:\")\n",
        "print(classification_report(y_test, y_pred, target_names=['Không', 'Có']))\n",
        "\n"
      ],
      "metadata": {
        "id": "r4OsdOYdztF7",
        "outputId": "68e3e973-80cd-4a22-8ceb-1aee637fdc02",
        "colab": {
          "base_uri": "https://localhost:8080/"
        }
      },
      "execution_count": 17,
      "outputs": [
        {
          "output_type": "stream",
          "name": "stdout",
          "text": [
            "Độ chính xác của mô hình SVM (RBF kernel) với ngưỡng 0.5: 70.53%\n",
            "\n",
            "Báo cáo phân loại chi tiết:\n",
            "              precision    recall  f1-score   support\n",
            "\n",
            "       Không       0.93      0.62      0.75      2096\n",
            "          Có       0.51      0.90      0.65       904\n",
            "\n",
            "    accuracy                           0.71      3000\n",
            "   macro avg       0.72      0.76      0.70      3000\n",
            "weighted avg       0.80      0.71      0.72      3000\n",
            "\n"
          ]
        }
      ]
    }
  ]
}