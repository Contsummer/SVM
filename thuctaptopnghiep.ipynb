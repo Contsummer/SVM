{
  "nbformat": 4,
  "nbformat_minor": 0,
  "metadata": {
    "colab": {
      "provenance": [],
      "toc_visible": true,
      "authorship_tag": "ABX9TyOYvCJCavJ96rcSVZiUHd1r",
      "include_colab_link": true
    },
    "kernelspec": {
      "name": "python3",
      "display_name": "Python 3"
    },
    "language_info": {
      "name": "python"
    }
  },
  "cells": [
    {
      "cell_type": "markdown",
      "metadata": {
        "id": "view-in-github",
        "colab_type": "text"
      },
      "source": [
        "<a href=\"https://colab.research.google.com/github/Contsummer/SVM/blob/main/thuctaptopnghiep.ipynb\" target=\"_parent\"><img src=\"https://colab.research.google.com/assets/colab-badge.svg\" alt=\"Open In Colab\"/></a>"
      ]
    },
    {
      "cell_type": "code",
      "source": [
        "import pandas as pd\n",
        "import numpy as np\n",
        "from sklearn.model_selection import train_test_split\n",
        "from sklearn.svm import SVC\n",
        "from sklearn.preprocessing import StandardScaler\n",
        "from sklearn.metrics import accuracy_score, classification_report\n",
        "\n",
        " data = pd.read_excel('/content/student_dropout_labeled_v3.xlsx')\n",
        "\n",
        "# Chọn các đặc trưng (features) và nhãn (target)\n",
        "# Loại bỏ cột 'Lớp' vì nó không phải là đặc trưng số\n",
        "features = features.fillna(features.mean())\n",
        "\n",
        "# Chuẩn hóa dữ liệu\n",
        "scaler = StandardScaler()\n",
        "features_scaled = scaler.fit_transform(features)\n",
        "\n",
        "# Áp dụng SMOTE để cân bằng dữ liệu\n",
        "smote = SMOTE(random_state=42)\n",
        "features_resampled, target_resampled = smote.fit_resample(features_scaled, target)\n",
        "\n",
        "# Chia dữ liệu thành tập huấn luyện và kiểm tra\n",
        "X_train, X_test, y_train, y_test = train_test_split(features_resampled, target_resampled, test_size=0.2, random_state=42)\n",
        "\n",
        "# Khởi tạo mô hình SVM với kernel RBF và các tham số cải thiện\n",
        "svm_model = SVC(kernel='rbf', C=10.0, gamma='auto', class_weight='balanced', random_state=42, probability=True)\n",
        "\n",
        "# Huấn luyện mô hình\n",
        "svm_model.fit(X_train, y_train)\n",
        "\n",
        "# Dự đoán trên tập kiểm tra\n",
        "y_pred = svm_model.predict(X_test)\n",
        "y_pred_prob = svm_model.predict_proba(X_test)[:, 1]  # Xác suất cho lớp 1\n",
        "\n",
        "# Đánh giá mô hình\n",
        "accuracy = accuracy_score(y_test, y_pred)\n",
        "\n",
        "print(f\"Accuracy: {accuracy:.2f}\")\n",
        "print(\"\\nClassification Report:\")\n",
        "print(classification_report(y_test, y_pred))\n",
        "\n",
        ""
      ],
      "metadata": {
        "colab": {
          "base_uri": "https://localhost:8080/"
        },
        "id": "W2OQYZD_lkpn",
        "outputId": "326b9962-8a4a-4355-ece6-a99a34741c02"
      },
      "execution_count": 12,
      "outputs": [
        {
          "output_type": "stream",
          "name": "stdout",
          "text": [
            "Accuracy: 0.70\n",
            "\n",
            "Classification Report:\n",
            "              precision    recall  f1-score   support\n",
            "\n",
            "           0       0.68      0.63      0.65       166\n",
            "           1       0.71      0.75      0.73       200\n",
            "\n",
            "    accuracy                           0.70       366\n",
            "   macro avg       0.69      0.69      0.69       366\n",
            "weighted avg       0.70      0.70      0.70       366\n",
            "\n"
          ]
        }
      ]
    }
  ]
}