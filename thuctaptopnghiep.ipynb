{
  "nbformat": 4,
  "nbformat_minor": 0,
  "metadata": {
    "colab": {
      "provenance": [],
      "authorship_tag": "ABX9TyOTjmLLLxS2rMc+kYJaBPlo",
      "include_colab_link": true
    },
    "kernelspec": {
      "name": "python3",
      "display_name": "Python 3"
    },
    "language_info": {
      "name": "python"
    }
  },
  "cells": [
    {
      "cell_type": "markdown",
      "metadata": {
        "id": "view-in-github",
        "colab_type": "text"
      },
      "source": [
        "<a href=\"https://colab.research.google.com/github/Contsummer/SVM/blob/main/thuctaptopnghiep.ipynb\" target=\"_parent\"><img src=\"https://colab.research.google.com/assets/colab-badge.svg\" alt=\"Open In Colab\"/></a>"
      ]
    },
    {
      "cell_type": "code",
      "source": [
        "import pandas as pd\n",
        "import numpy as np\n",
        "from sklearn.model_selection import train_test_split\n",
        "from sklearn.svm import SVC\n",
        "from sklearn.preprocessing import StandardScaler\n",
        "from sklearn.metrics import accuracy_score, classification_report\n",
        "\n",
        " data = pd.read_excel('/content/student_dropout_labeled_v3.xlsx')\n",
        "\n",
        "# Chọn các đặc trưng (features) và nhãn (target)\n",
        "# Loại bỏ cột 'Lớp' vì nó không phải là đặc trưng số\n",
        "features = features.fillna(features.mean())\n",
        "\n",
        "# Chuẩn hóa dữ liệu\n",
        "scaler = StandardScaler()\n",
        "features_scaled = scaler.fit_transform(features)\n",
        "\n",
        "# Áp dụng SMOTE để cân bằng dữ liệu\n",
        "smote = SMOTE(random_state=42)\n",
        "features_resampled, target_resampled = smote.fit_resample(features_scaled, target)\n",
        "\n",
        "# Chia dữ liệu thành tập huấn luyện và kiểm tra\n",
        "X_train, X_test, y_train, y_test = train_test_split(features_resampled, target_resampled, test_size=0.2, random_state=42)\n",
        "\n",
        "# Khởi tạo mô hình SVM với kernel RBF và các tham số cải thiện\n",
        "svm_model = SVC(kernel='rbf', C=10.0, gamma='auto', class_weight='balanced', random_state=42, probability=True)\n",
        "\n",
        "# Huấn luyện mô hình\n",
        "svm_model.fit(X_train, y_train)\n",
        "\n",
        "# Dự đoán trên tập kiểm tra\n",
        "y_pred = svm_model.predict(X_test)\n",
        "y_pred_prob = svm_model.predict_proba(X_test)[:, 1]  # Xác suất cho lớp 1\n",
        "\n",
        "# Đánh giá mô hình\n",
        "accuracy = accuracy_score(y_test, y_pred)\n",
        "\n",
        "print(f\"Accuracy: {accuracy:.2f}\")\n",
        "print(\"\\nClassification Report:\")\n",
        "print(classification_report(y_test, y_pred))\n",
        "\n",
        "import matplotlib.pyplot as plt\n",
        "import seaborn as sns\n",
        "\n",
        "# Thiết lập kiểu trực quan\n",
        "sns.set(style=\"whitegrid\")\n",
        "\n",
        "# Vẽ biểu đồ độ chính xác\n",
        "plt.figure(figsize=(6, 4))\n",
        "sns.barplot(x=[\"SVM (RBF Kernel)\"], y=[accuracy], palette=\"Blues_d\")\n",
        "plt.ylim(0, 1)\n",
        "plt.ylabel(\"Accuracy\")\n",
        "plt.title(\"Accuracy of SVM with RBF Kernel\")\n",
        "plt.text(0, accuracy + 0.02, f\"{accuracy:.2f}\", ha='center', va='bottom')\n",
        "plt.tight_layout()\n",
        "plt.show()\n"
      ],
      "metadata": {
        "colab": {
          "base_uri": "https://localhost:8080/",
          "height": 106
        },
        "id": "W2OQYZD_lkpn",
        "outputId": "1acb0b44-0076-4fa2-9757-4186223327da"
      },
      "execution_count": 1,
      "outputs": [
        {
          "output_type": "error",
          "ename": "IndentationError",
          "evalue": "unexpected indent (<ipython-input-1-77eb350ca6e1>, line 8)",
          "traceback": [
            "\u001b[0;36m  File \u001b[0;32m\"<ipython-input-1-77eb350ca6e1>\"\u001b[0;36m, line \u001b[0;32m8\u001b[0m\n\u001b[0;31m    data = pd.read_excel('/content/student_dropout_labeled_v3.xlsx')\u001b[0m\n\u001b[0m    ^\u001b[0m\n\u001b[0;31mIndentationError\u001b[0m\u001b[0;31m:\u001b[0m unexpected indent\n"
          ]
        }
      ]
    }
  ]
}